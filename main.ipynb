{
 "cells": [
  {
   "cell_type": "code",
   "execution_count": 1,
   "metadata": {},
   "outputs": [],
   "source": [
    "import pulp\n",
    "import pandas as pd\n"
   ]
  },
  {
   "cell_type": "code",
   "execution_count": 2,
   "metadata": {},
   "outputs": [],
   "source": [
    "T = ['Arsenal',\n",
    "     'AstonVilla',\n",
    "     'Bournemouth',\n",
    "     'Brentford',\n",
    "     'Brighton',\n",
    "     'Chelsea',\n",
    "     'CrystalPalace',\n",
    "     'Everton',\n",
    "     'Fulham',\n",
    "     'LeedsUnited',\n",
    "     'LeicesterCity',\n",
    "     'Liverpool',\n",
    "     'ManchesterCity',\n",
    "     'ManchesterUnited',\n",
    "     'NewcastleUnited',\n",
    "     'NottinghamForest',\n",
    "     'Southampton',\n",
    "     'TottenhamHotspur',\n",
    "     'WestHamUnited',\n",
    "     'WolverhamptonWanderers'\n",
    "     ]\n",
    "\n",
    "Liverpool = ['Liverpool', 'Everton']\n",
    "Manchester = ['ManchesterCity', 'ManchesterUnited']"
   ]
  },
  {
   "cell_type": "code",
   "execution_count": 3,
   "metadata": {},
   "outputs": [],
   "source": [
    "W = range(1, 2*len(T) - 1)\n",
    "W2 = range(1, 2*len(T) - 2)\n",
    "W_first_half = range(1, len(T))\n",
    "W_second_half = range(len(T), 2*len(T) - 1)\n"
   ]
  },
  {
   "cell_type": "code",
   "execution_count": 4,
   "metadata": {},
   "outputs": [],
   "source": [
    "# Decision variable indicating team h plays against team a in week w\n",
    "x = pulp.LpVariable.dicts('x', (W, T, T), cat=pulp.LpBinary)\n",
    "y = pulp.LpVariable.dicts('y', (W2, T), cat=pulp.LpBinary)\n"
   ]
  },
  {
   "cell_type": "code",
   "execution_count": 5,
   "metadata": {},
   "outputs": [],
   "source": [
    "# Team cannot play itself\n",
    "for w in W:\n",
    "\n",
    "    for h in T:\n",
    "\n",
    "        for a in T:\n",
    "\n",
    "            if h == a:\n",
    "\n",
    "                del x[w][h][a]\n",
    "\n",
    "schedule = pulp.LpProblem(\"Schedule\", pulp.LpMinimize)\n"
   ]
  },
  {
   "cell_type": "code",
   "execution_count": 6,
   "metadata": {},
   "outputs": [],
   "source": [
    "schedule += pulp.lpSum(y[w][i] for w in W2 for i in T)\n"
   ]
  },
  {
   "cell_type": "code",
   "execution_count": 7,
   "metadata": {},
   "outputs": [],
   "source": [
    "# Each team plays exactly one match each week\n",
    "for w in W:\n",
    "\n",
    "    for i in T:\n",
    "\n",
    "        schedule += pulp.lpSum(x[w][i][a] for a in T if a != i) + \\\n",
    "            pulp.lpSum(x[w][h][i] for h in T if h != i) == 1\n"
   ]
  },
  {
   "cell_type": "code",
   "execution_count": 8,
   "metadata": {},
   "outputs": [],
   "source": [
    "# Teams play each other twice during the season, with one home match and one away match\n",
    "for i in T:\n",
    "    for j in T:\n",
    "        if j != i:\n",
    "            # team i plays one match in the first half against team j\n",
    "            schedule += pulp.lpSum(x[w][i][j] for w in W_first_half) + \\\n",
    "                pulp.lpSum(x[w][j][i] for w in W_first_half) == 1\n",
    "            # team i plays one match in the second half against team j\n",
    "            schedule += pulp.lpSum(x[w][i][j] for w in W_second_half) + \\\n",
    "                pulp.lpSum(x[w][j][i] for w in W_second_half) == 1\n",
    "            # if team i played at home against team j in the first half,\n",
    "            # they will play away against team j in the second half, and vice versa\n",
    "            schedule += pulp.lpSum(x[w][i][j] for w in W_first_half) == pulp.lpSum(\n",
    "                x[w][j][i] for w in W_second_half)\n",
    "            schedule += pulp.lpSum(x[w][j][i] for w in W_first_half) == pulp.lpSum(\n",
    "                x[w][i][j] for w in W_second_half)\n"
   ]
  },
  {
   "cell_type": "code",
   "execution_count": 9,
   "metadata": {},
   "outputs": [],
   "source": [
    "# First two and last two games cannot be consecutive away or home matches\n",
    "for i in T:\n",
    "    schedule += pulp.lpSum(x[W[0]][i][j] for j in T if i != j) + \\\n",
    "        pulp.lpSum(x[W[1]][i][j] for j in T if i != j) == 1\n",
    "    schedule += pulp.lpSum(x[W[-1]][i][j] for j in T if i != j) + \\\n",
    "        pulp.lpSum(x[W[-2]][i][j] for j in T if i != j) == 1\n"
   ]
  },
  {
   "cell_type": "code",
   "execution_count": 10,
   "metadata": {},
   "outputs": [],
   "source": [
    "# If a team is home during boxing day (week 17) it will be away during new year's day (week 18)\n",
    "for i in T:\n",
    "    schedule += pulp.lpSum(x[W[16]][i][j] for j in T if i != j) + \\\n",
    "        pulp.lpSum(x[W[17]][i][j] for j in T if i != j) == 1\n"
   ]
  },
  {
   "cell_type": "code",
   "execution_count": 11,
   "metadata": {},
   "outputs": [],
   "source": [
    "# Sequencing rule\n",
    "for i in T:\n",
    "    for w in range(1, 2*len(T) - 5):\n",
    "        schedule += pulp.lpSum(x[w][i][j] + x[w + 1][i][j] + x[w + 2][i][j] + x[w + 3][i][j] + x[w + 4][i][j]\n",
    "                               for j in T if i != j) <= 3\n",
    "        schedule += pulp.lpSum(x[w][i][j] + x[w + 1][i][j] + x[w + 2][i][j] + x[w + 3][i][j] + x[w + 4][i][j]\n",
    "                               for j in T if i != j) >= 2\n"
   ]
  },
  {
   "cell_type": "code",
   "execution_count": 12,
   "metadata": {},
   "outputs": [],
   "source": [
    "# Teams from the same city can't play both home in the same week\n",
    "for w in W:\n",
    "    schedule += pulp.lpSum(x[w][h][a] for a in T for h in Liverpool if h != a) == len(Liverpool) // 2\n",
    "\n",
    "for w in W:\n",
    "    schedule += pulp.lpSum(x[w][h][a] for a in T for h in Manchester if h != a) == len(Manchester) // 2"
   ]
  },
  {
   "cell_type": "code",
   "execution_count": 13,
   "metadata": {},
   "outputs": [],
   "source": [
    "# Minimize the number of consecutive home and away games\n",
    "for i in T:\n",
    "    for w in W2:\n",
    "        schedule += pulp.lpSum(x[w][i][j] + x[w + 1][i][j] for j in T if i != j) - y[w][i] == 1"
   ]
  },
  {
   "cell_type": "code",
   "execution_count": 14,
   "metadata": {},
   "outputs": [],
   "source": [
    "schedule.writeLP(\"file.lp\");\n"
   ]
  }
 ],
 "metadata": {
  "kernelspec": {
   "display_name": "PremierLeagueScheduler-CHCt7ERA",
   "language": "python",
   "name": "python3"
  },
  "language_info": {
   "codemirror_mode": {
    "name": "ipython",
    "version": 3
   },
   "file_extension": ".py",
   "mimetype": "text/x-python",
   "name": "python",
   "nbconvert_exporter": "python",
   "pygments_lexer": "ipython3",
   "version": "3.10.5"
  },
  "orig_nbformat": 4
 },
 "nbformat": 4,
 "nbformat_minor": 2
}
