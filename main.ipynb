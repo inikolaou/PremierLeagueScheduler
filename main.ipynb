{
 "cells": [
  {
   "cell_type": "code",
   "execution_count": 1,
   "metadata": {},
   "outputs": [],
   "source": [
    "import pulp\n"
   ]
  },
  {
   "cell_type": "code",
   "execution_count": 2,
   "metadata": {},
   "outputs": [],
   "source": [
    "T = [\n",
    "     'Arsenal',\n",
    "     'AstonVilla',\n",
    "     'Bournemouth',\n",
    "     'Brentford',\n",
    "     'Brighton',\n",
    "     'Chelsea',\n",
    "     'CrystalPalace',\n",
    "     'Everton',\n",
    "     'Fulham',\n",
    "     'LeedsUnited',\n",
    "     'LeicesterCity',\n",
    "     'Liverpool',\n",
    "     'ManchesterCity',\n",
    "     'ManchesterUnited',\n",
    "     'NewcastleUnited',\n",
    "     'NottinghamForest',\n",
    "     'Southampton',\n",
    "     'TottenhamHotspur',\n",
    "     'WestHamUnited',\n",
    "     'WolverhamptonWanderers'\n",
    "     ]\n",
    "\n",
    "Liverpool = ['Liverpool', 'Everton']\n",
    "Manchester = ['ManchesterCity', 'ManchesterUnited']\n",
    "\n",
    "W = range(1, 2*len(T) - 1)\n",
    "W2 = range(1, 2*len(T) - 2)\n",
    "W3 = range(1, 2*len(T) - 5)\n",
    "WFH = range(1, len(T))\n",
    "WSH = range(len(T), 2*len(T) - 1)\n"
   ]
  },
  {
   "cell_type": "code",
   "execution_count": 3,
   "metadata": {},
   "outputs": [],
   "source": [
    "x = pulp.LpVariable.dicts('x', (T, T, W), cat=pulp.LpBinary)\n",
    "y = pulp.LpVariable.dicts('y', (T, W2), cat=pulp.LpBinary)\n"
   ]
  },
  {
   "cell_type": "code",
   "execution_count": 4,
   "metadata": {},
   "outputs": [],
   "source": [
    "# Team cannot play itself\n",
    "for w in W:\n",
    "\n",
    "    for h in T:\n",
    "\n",
    "        for a in T:\n",
    "\n",
    "            if h == a:\n",
    "\n",
    "                del x[h][a][w]\n",
    "\n",
    "schedule = pulp.LpProblem(\"Schedule\", pulp.LpMinimize)\n"
   ]
  },
  {
   "cell_type": "code",
   "execution_count": 5,
   "metadata": {},
   "outputs": [],
   "source": [
    "schedule += pulp.lpSum(y[i][w] for w in W2 for i in T)\n"
   ]
  },
  {
   "cell_type": "code",
   "execution_count": 6,
   "metadata": {},
   "outputs": [],
   "source": [
    "# Each team plays exactly one match each week\n",
    "for w in W:\n",
    "\n",
    "    for i in T:\n",
    "\n",
    "        schedule += pulp.lpSum(x[i][a][w] for a in T if a != i) + \\\n",
    "            pulp.lpSum(x[h][i][w] for h in T if h != i) == 1\n"
   ]
  },
  {
   "cell_type": "code",
   "execution_count": 7,
   "metadata": {},
   "outputs": [],
   "source": [
    "# Teams play each other twice during the season, with one home match and one away match\n",
    "li = []\n",
    "for i in T:\n",
    "    li.append(i)\n",
    "    for j in T:\n",
    "        if j != i and j not in li:\n",
    "            # team i plays one match in the first half against team j\n",
    "            schedule += pulp.lpSum(x[i][j][w] for w in WFH) + \\\n",
    "                pulp.lpSum(x[j][i][w] for w in WFH) == 1\n",
    "            # team i plays one match in the second half against team j\n",
    "            schedule += pulp.lpSum(x[i][j][w] for w in WSH) + \\\n",
    "                pulp.lpSum(x[j][i][w] for w in WSH) == 1\n",
    "            # if team i played at home against team j in the first half,\n",
    "            # they will play away against team j in the second half, and vice versa\n",
    "            schedule += pulp.lpSum(x[i][j][w] for w in WFH) == pulp.lpSum(\n",
    "                x[j][i][w] for w in WSH)\n",
    "            schedule += pulp.lpSum(x[j][i][w] for w in WFH) == pulp.lpSum(\n",
    "                x[i][j][w] for w in WSH)\n"
   ]
  },
  {
   "cell_type": "code",
   "execution_count": 8,
   "metadata": {},
   "outputs": [],
   "source": [
    "# First two and last two games cannot be consecutive away or home matches\n",
    "for i in T:\n",
    "    schedule += pulp.lpSum(x[i][j][W[0]] for j in T if i != j) + \\\n",
    "        pulp.lpSum(x[i][j][W[1]] for j in T if i != j) == 1\n",
    "    schedule += pulp.lpSum(x[i][j][W[-1]] for j in T if i != j) + \\\n",
    "        pulp.lpSum(x[i][j][W[-2]] for j in T if i != j) == 1\n"
   ]
  },
  {
   "cell_type": "code",
   "execution_count": 9,
   "metadata": {},
   "outputs": [],
   "source": [
    "# If a team is home during boxing day (week 17) it will be away during\n",
    "# new year's day (week 18)\n",
    "for i in T:\n",
    "    schedule += pulp.lpSum(x[i][j][W[16]] for j in T if i != j) + \\\n",
    "        pulp.lpSum(x[i][j][W[17]] for j in T if i != j) == 1\n"
   ]
  },
  {
   "cell_type": "code",
   "execution_count": 10,
   "metadata": {},
   "outputs": [],
   "source": [
    "# Teams from the same city can't play both home in the same week\n",
    "for w in W:\n",
    "    schedule += pulp.lpSum(x[h][a][w] for a in T for h in Liverpool if h != a) == len(Liverpool) // 2\n",
    "\n",
    "for w in W:\n",
    "    schedule += pulp.lpSum(x[h][a][w] for a in T for h in Manchester if h != a) == len(Manchester) // 2\n"
   ]
  },
  {
   "cell_type": "code",
   "execution_count": 11,
   "metadata": {},
   "outputs": [],
   "source": [
    "# Sequencing rule\n",
    "for i in T:\n",
    "    for w in W3:\n",
    "        schedule += pulp.lpSum(x[i][j][w] + x[i][j][w + 1] + x[i][j][w + 2] + x[i][j][w + 3] + x[i][j][w + 4]\n",
    "                               for j in T if i != j) <= 3\n",
    "        schedule += pulp.lpSum(x[i][j][w] + x[i][j][w + 1] + x[i][j][w + 2] + x[i][j][w + 3] + x[i][j][w + 4]\n",
    "                               for j in T if i != j) >= 2\n"
   ]
  },
  {
   "cell_type": "code",
   "execution_count": 12,
   "metadata": {},
   "outputs": [],
   "source": [
    "# Minimize the number of consecutive home and away games\n",
    "for i in T:\n",
    "    for w in W2:\n",
    "        schedule += pulp.lpSum(x[i][j][w] + x[i][j][w + 1] for j in T if i != j) - y[i][w] <= 1\n"
   ]
  },
  {
   "cell_type": "code",
   "execution_count": 13,
   "metadata": {},
   "outputs": [],
   "source": [
    "schedule.writeLP(\"originalProblem.lp\");\n"
   ]
  }
 ],
 "metadata": {
  "kernelspec": {
   "display_name": "PremierLeagueScheduler-CHCt7ERA",
   "language": "python",
   "name": "python3"
  },
  "language_info": {
   "codemirror_mode": {
    "name": "ipython",
    "version": 3
   },
   "file_extension": ".py",
   "mimetype": "text/x-python",
   "name": "python",
   "nbconvert_exporter": "python",
   "pygments_lexer": "ipython3",
   "version": "3.10.5"
  },
  "orig_nbformat": 4
 },
 "nbformat": 4,
 "nbformat_minor": 2
}
