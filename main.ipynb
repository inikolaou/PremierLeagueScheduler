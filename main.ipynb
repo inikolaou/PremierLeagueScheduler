{
 "cells": [
  {
   "cell_type": "code",
   "execution_count": 51,
   "metadata": {},
   "outputs": [],
   "source": [
    "import pulp\n",
    "import pandas as pd\n"
   ]
  },
  {
   "cell_type": "code",
   "execution_count": 52,
   "metadata": {},
   "outputs": [],
   "source": [
    "T = ['Arsenal',\n",
    "     'AstonVilla',\n",
    "     'Bournemouth',\n",
    "     'Brentford',\n",
    "     'Brighton',\n",
    "     'Chelsea',\n",
    "     'CrystalPalace',\n",
    "     'Everton',\n",
    "     'Fulham',\n",
    "     'LeedsUnited',\n",
    "     'LeicesterCity',\n",
    "     'Liverpool',\n",
    "     'ManchesterCity',\n",
    "     'ManchesterUnited',\n",
    "     'NewcastleUnited',\n",
    "     'NottinghamForest',\n",
    "     'Southampton',\n",
    "     'TottenhamHotspur',\n",
    "     'WestHamUnited',\n",
    "     'WolverhamptonWanderers'\n",
    "     ]\n"
   ]
  },
  {
   "cell_type": "code",
   "execution_count": 53,
   "metadata": {},
   "outputs": [],
   "source": [
    "W = range(1, 2*len(T) - 1)\n",
    "W2 = range(1, 2*len(T) - 3)\n",
    "W_first_half = range(1, len(T))\n",
    "W_second_half = range(len(T), 2*len(T) - 1)\n"
   ]
  },
  {
   "cell_type": "code",
   "execution_count": 54,
   "metadata": {},
   "outputs": [],
   "source": [
    "# Decision variable indicating team h plays against team a in week w\n",
    "x = pulp.LpVariable.dicts('x', (W, T, T), cat=pulp.LpBinary)\n"
   ]
  },
  {
   "cell_type": "code",
   "execution_count": 55,
   "metadata": {},
   "outputs": [],
   "source": [
    "# Team cannot play itself\n",
    "for w in W:\n",
    "\n",
    "    for h in T:\n",
    "\n",
    "        for a in T:\n",
    "\n",
    "            if h == a:\n",
    "\n",
    "                del x[w][h][a]\n",
    "\n",
    "schedule = pulp.LpProblem(\"Schedule\", pulp.LpMinimize)\n"
   ]
  },
  {
   "cell_type": "code",
   "execution_count": 56,
   "metadata": {},
   "outputs": [],
   "source": [
    "# Not yet decided on objective function\n",
    "schedule += 0\n"
   ]
  },
  {
   "cell_type": "code",
   "execution_count": 57,
   "metadata": {},
   "outputs": [],
   "source": [
    "# Each team plays exactly one match each week\n",
    "for w in W:\n",
    "\n",
    "    for i in T:\n",
    "\n",
    "        schedule += pulp.lpSum(x[w][i][a] for a in T if a != i) + \\\n",
    "            pulp.lpSum(x[w][h][i] for h in T if h != i) == 1\n"
   ]
  },
  {
   "cell_type": "code",
   "execution_count": 58,
   "metadata": {},
   "outputs": [],
   "source": [
    "# Teams play each other twice during the season, with one home match and one away match\n",
    "for i in T:\n",
    "    for j in T:\n",
    "        if j != i:\n",
    "            # team i plays one match in the first half against team j\n",
    "            schedule += pulp.lpSum(x[w][i][j] for w in W_first_half) + \\\n",
    "                pulp.lpSum(x[w][j][i] for w in W_first_half) == 1\n",
    "            # team i plays one match in the second half against team j\n",
    "            schedule += pulp.lpSum(x[w][i][j] for w in W_second_half) + \\\n",
    "                pulp.lpSum(x[w][j][i] for w in W_second_half) == 1\n",
    "            # if team i played at home against team j in the first half,\n",
    "            # they will play away against team j in the second half, and vice versa\n",
    "            schedule += pulp.lpSum(x[w][i][j] for w in W_first_half) == pulp.lpSum(\n",
    "                x[w][j][i] for w in W_second_half)\n",
    "            schedule += pulp.lpSum(x[w][j][i] for w in W_first_half) == pulp.lpSum(\n",
    "                x[w][i][j] for w in W_second_half)\n"
   ]
  },
  {
   "cell_type": "code",
   "execution_count": 59,
   "metadata": {},
   "outputs": [],
   "source": [
    "# First two and last two games cannot be consecutive away or home matches\n",
    "for i in T:\n",
    "    schedule += pulp.lpSum(x[W[0]][i][j] for j in T if i != j) + \\\n",
    "        pulp.lpSum(x[W[1]][i][j] for j in T if i != j) == 1\n",
    "    schedule += pulp.lpSum(x[W[-1]][i][j] for j in T if i != j) + \\\n",
    "        pulp.lpSum(x[W[-2]][i][j] for j in T if i != j) == 1\n"
   ]
  },
  {
   "cell_type": "code",
   "execution_count": 60,
   "metadata": {},
   "outputs": [],
   "source": [
    "# If a team is home during boxing day (week 17) it will be away during new year's day (week 18)\n",
    "for i in T:\n",
    "    schedule += pulp.lpSum(x[W[16]][i][j] for j in T if i != j) + \\\n",
    "        pulp.lpSum(x[W[17]][i][j] for j in T if i != j) == 1\n"
   ]
  },
  {
   "cell_type": "code",
   "execution_count": 61,
   "metadata": {},
   "outputs": [],
   "source": [
    "# Sequencing rule\n",
    "for i in T:\n",
    "    for w in range(1, 2*len(T) - 5):\n",
    "        schedule += pulp.lpSum(x[w][i][j] + x[w + 1][i][j] + x[w + 2][i][j] + x[w + 3][i][j] + x[w + 4][i][j]\n",
    "                               for j in T if i != j) <= 3\n",
    "        schedule += pulp.lpSum(x[w][i][j] + x[w + 1][i][j] + x[w + 2][i][j] + x[w + 3][i][j] + x[w + 4][i][j]\n",
    "                               for j in T if i != j) >= 2\n"
   ]
  },
  {
   "cell_type": "code",
   "execution_count": 62,
   "metadata": {},
   "outputs": [],
   "source": [
    "schedule.writeLP(\"file.lp\");\n"
   ]
  }
 ],
 "metadata": {
  "kernelspec": {
   "display_name": "PremierLeagueScheduler-CHCt7ERA",
   "language": "python",
   "name": "python3"
  },
  "language_info": {
   "codemirror_mode": {
    "name": "ipython",
    "version": 3
   },
   "file_extension": ".py",
   "mimetype": "text/x-python",
   "name": "python",
   "nbconvert_exporter": "python",
   "pygments_lexer": "ipython3",
   "version": "3.9.2"
  },
  "orig_nbformat": 4
 },
 "nbformat": 4,
 "nbformat_minor": 2
}
