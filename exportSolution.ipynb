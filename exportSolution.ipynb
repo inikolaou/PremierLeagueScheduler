{
 "cells": [
  {
   "cell_type": "code",
   "execution_count": 1,
   "metadata": {},
   "outputs": [],
   "source": [
    "import pandas as pd\n",
    "from openpyxl import Workbook\n",
    "from openpyxl.utils.dataframe import dataframe_to_rows\n",
    "from openpyxl.styles import PatternFill\n"
   ]
  },
  {
   "cell_type": "code",
   "execution_count": 2,
   "metadata": {},
   "outputs": [],
   "source": [
    "solutionFile = \"6team_solution.sol\"\n",
    "\n",
    "with open(solutionFile) as f:\n",
    "\tanswer = f.readlines()\n",
    "\tanswer = answer[:-1]\n",
    "\t"
   ]
  },
  {
   "cell_type": "code",
   "execution_count": 3,
   "metadata": {},
   "outputs": [],
   "source": [
    "schedule = []\n",
    "for game in answer:\n",
    "    if game[-2] == \"1\":\n",
    "        game = game.strip()\n",
    "        game = game.split(\" \")[0]\n",
    "        game = game.split(\"_\")[1:]\n",
    "        schedule.append(game)\n",
    "        "
   ]
  },
  {
   "cell_type": "code",
   "execution_count": 4,
   "metadata": {},
   "outputs": [
    {
     "data": {
      "text/plain": [
       "['LeicesterCity',\n",
       " 'NewcastleUnited',\n",
       " 'Liverpool',\n",
       " 'ManchesterUnited',\n",
       " 'ManchesterCity',\n",
       " 'Everton']"
      ]
     },
     "execution_count": 4,
     "metadata": {},
     "output_type": "execute_result"
    }
   ],
   "source": [
    "T = []\n",
    "for game in schedule:\n",
    "    for team in game[:-1]:\n",
    "        if team not in T:\n",
    "            T.append(team)\n",
    "\n",
    "T"
   ]
  },
  {
   "cell_type": "code",
   "execution_count": 5,
   "metadata": {},
   "outputs": [
    {
     "data": {
      "text/plain": [
       "{1: {'LeicesterCity': 'NewcastleUnited',\n",
       "  'Liverpool': 'ManchesterUnited',\n",
       "  'ManchesterCity': 'Everton'},\n",
       " 2: {'Everton': 'Liverpool',\n",
       "  'ManchesterUnited': 'LeicesterCity',\n",
       "  'NewcastleUnited': 'ManchesterCity'},\n",
       " 3: {'LeicesterCity': 'ManchesterCity',\n",
       "  'Liverpool': 'NewcastleUnited',\n",
       "  'ManchesterUnited': 'Everton'},\n",
       " 4: {'Everton': 'LeicesterCity',\n",
       "  'ManchesterCity': 'Liverpool',\n",
       "  'NewcastleUnited': 'ManchesterUnited'},\n",
       " 5: {'Liverpool': 'LeicesterCity',\n",
       "  'ManchesterUnited': 'ManchesterCity',\n",
       "  'NewcastleUnited': 'Everton'},\n",
       " 6: {'Everton': 'NewcastleUnited',\n",
       "  'LeicesterCity': 'Liverpool',\n",
       "  'ManchesterCity': 'ManchesterUnited'},\n",
       " 7: {'LeicesterCity': 'Everton',\n",
       "  'Liverpool': 'ManchesterCity',\n",
       "  'ManchesterUnited': 'NewcastleUnited'},\n",
       " 8: {'Everton': 'ManchesterUnited',\n",
       "  'ManchesterCity': 'LeicesterCity',\n",
       "  'NewcastleUnited': 'Liverpool'},\n",
       " 9: {'LeicesterCity': 'ManchesterUnited',\n",
       "  'Liverpool': 'Everton',\n",
       "  'ManchesterCity': 'NewcastleUnited'},\n",
       " 10: {'Everton': 'ManchesterCity',\n",
       "  'ManchesterUnited': 'Liverpool',\n",
       "  'NewcastleUnited': 'LeicesterCity'}}"
      ]
     },
     "execution_count": 5,
     "metadata": {},
     "output_type": "execute_result"
    }
   ],
   "source": [
    "data = {}\n",
    "for game in schedule:\n",
    "    data[int(game[2])] = {}\n",
    "\n",
    "for game in schedule:\n",
    "    data[int(game[2])][game[0]] = game[1]\n",
    "\n",
    "data"
   ]
  },
  {
   "cell_type": "code",
   "execution_count": 6,
   "metadata": {},
   "outputs": [],
   "source": [
    "# Create an empty DataFrame\n",
    "df = pd.DataFrame(columns=range(1, 11))\n"
   ]
  },
  {
   "cell_type": "code",
   "execution_count": 7,
   "metadata": {},
   "outputs": [],
   "source": [
    "# Iterate over the dictionary and populate the DataFrame\n",
    "for number, matches in data.items():\n",
    "    for team, opponent in matches.items():\n",
    "        df.loc[team, number] = opponent\n",
    "        df.loc[opponent, number] = team\n",
    "        "
   ]
  },
  {
   "cell_type": "code",
   "execution_count": 8,
   "metadata": {},
   "outputs": [],
   "source": [
    "# Create a new Excel file\n",
    "wb = Workbook()\n",
    "ws = wb.active\n"
   ]
  },
  {
   "cell_type": "code",
   "execution_count": 9,
   "metadata": {},
   "outputs": [],
   "source": [
    "# Apply fill color to the specific cells\n",
    "for number, matches in data.items():\n",
    "    for team, opponent in matches.items():\n",
    "        cell = ws.cell(row=df.index.get_loc(team) + 2, column=number + 1)\n",
    "        cell.value = opponent\n",
    "        fill = PatternFill(start_color=\"FFFF00\", end_color=\"FFFF00\", fill_type=\"solid\")\n",
    "        cell.fill = fill\n",
    "        cell = ws.cell(row=df.index.get_loc(opponent) + 2, column=number + 1)\n",
    "        cell.value = team\n",
    "        "
   ]
  },
  {
   "cell_type": "code",
   "execution_count": 10,
   "metadata": {},
   "outputs": [],
   "source": [
    "# Write team names to the first column\n",
    "for i, team in enumerate(df.index, start=2):\n",
    "    cell = ws.cell(row=i, column=1)\n",
    "    cell.value = team\n",
    "    "
   ]
  },
  {
   "cell_type": "code",
   "execution_count": 11,
   "metadata": {},
   "outputs": [],
   "source": [
    "# Write weeks to the first row\n",
    "for i, week in enumerate(df.columns, start=2):\n",
    "    cell = ws.cell(row=1, column=i)\n",
    "    cell.value = week\n",
    "    "
   ]
  },
  {
   "cell_type": "code",
   "execution_count": 12,
   "metadata": {},
   "outputs": [],
   "source": [
    "# Configure column widths\n",
    "column_widths = [17] * (len(df.columns) + 1)\n",
    "for i, width in enumerate(column_widths, start=1):\n",
    "    ws.column_dimensions[ws.cell(row=1, column=i).column_letter].width = width\n",
    "    "
   ]
  },
  {
   "attachments": {},
   "cell_type": "markdown",
   "metadata": {},
   "source": [
    "The cells with yellow color indicate the team which plays at home in the specific week"
   ]
  },
  {
   "cell_type": "code",
   "execution_count": 13,
   "metadata": {},
   "outputs": [],
   "source": [
    "# Save the Excel file\n",
    "wb.save('PremierLeagueSchedule2022-2023.xlsx')\n"
   ]
  }
 ],
 "metadata": {
  "kernelspec": {
   "display_name": "PremierLeagueScheduler-yqYdQFsm",
   "language": "python",
   "name": "python3"
  },
  "language_info": {
   "codemirror_mode": {
    "name": "ipython",
    "version": 3
   },
   "file_extension": ".py",
   "mimetype": "text/x-python",
   "name": "python",
   "nbconvert_exporter": "python",
   "pygments_lexer": "ipython3",
   "version": "3.10.5"
  },
  "orig_nbformat": 4
 },
 "nbformat": 4,
 "nbformat_minor": 2
}
