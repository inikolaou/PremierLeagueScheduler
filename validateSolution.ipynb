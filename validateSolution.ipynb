{
 "cells": [
  {
   "cell_type": "code",
   "execution_count": 1,
   "metadata": {},
   "outputs": [],
   "source": [
    "solutionFile = \"6team_solution.sol\"\n",
    "\n",
    "with open(solutionFile) as f:\n",
    "\tanswer = f.readlines()\n",
    "\tanswer = answer[:-1]\n"
   ]
  },
  {
   "cell_type": "code",
   "execution_count": 2,
   "metadata": {},
   "outputs": [],
   "source": [
    "schedule = []\n",
    "for game in answer:\n",
    "    if game[-2] == \"1\":\n",
    "        game = game.strip()\n",
    "        game = game.split(\" \")[0]\n",
    "        game = game.split(\"_\")[1:]\n",
    "        schedule.append(game)\n"
   ]
  },
  {
   "cell_type": "code",
   "execution_count": 3,
   "metadata": {},
   "outputs": [
    {
     "data": {
      "text/plain": [
       "['LeicesterCity',\n",
       " 'NewcastleUnited',\n",
       " 'Liverpool',\n",
       " 'ManchesterUnited',\n",
       " 'ManchesterCity',\n",
       " 'Everton']"
      ]
     },
     "execution_count": 3,
     "metadata": {},
     "output_type": "execute_result"
    }
   ],
   "source": [
    "T = []\n",
    "for game in schedule:\n",
    "    for team in game[:-1]:\n",
    "        if team not in T:\n",
    "            T.append(team)\n",
    "\n",
    "T"
   ]
  },
  {
   "cell_type": "code",
   "execution_count": 4,
   "metadata": {},
   "outputs": [
    {
     "data": {
      "text/plain": [
       "{'LeicesterCity': ['h', 'a', 'h', 'a', 'a', 'h', 'h', 'a', 'h', 'a'],\n",
       " 'NewcastleUnited': ['a', 'h', 'a', 'h', 'h', 'a', 'a', 'h', 'a', 'h'],\n",
       " 'Liverpool': ['h', 'a', 'h', 'a', 'h', 'a', 'h', 'a', 'h', 'a'],\n",
       " 'ManchesterUnited': ['a', 'h', 'h', 'a', 'h', 'a', 'h', 'a', 'a', 'h'],\n",
       " 'ManchesterCity': ['h', 'a', 'a', 'h', 'a', 'h', 'a', 'h', 'h', 'a'],\n",
       " 'Everton': ['a', 'h', 'a', 'h', 'a', 'h', 'a', 'h', 'a', 'h']}"
      ]
     },
     "execution_count": 4,
     "metadata": {},
     "output_type": "execute_result"
    }
   ],
   "source": [
    "teams = {team: [] for team in T}\n",
    "for game in schedule:\n",
    "    teams[game[0]].append('h')\n",
    "    teams[game[1]].append('a')\n",
    "    \n",
    "teams"
   ]
  },
  {
   "cell_type": "code",
   "execution_count": 5,
   "metadata": {},
   "outputs": [
    {
     "data": {
      "text/plain": [
       "{1: {'LeicesterCity': 'NewcastleUnited',\n",
       "  'Liverpool': 'ManchesterUnited',\n",
       "  'ManchesterCity': 'Everton'},\n",
       " 2: {'Everton': 'Liverpool',\n",
       "  'ManchesterUnited': 'LeicesterCity',\n",
       "  'NewcastleUnited': 'ManchesterCity'},\n",
       " 3: {'LeicesterCity': 'ManchesterCity',\n",
       "  'Liverpool': 'NewcastleUnited',\n",
       "  'ManchesterUnited': 'Everton'},\n",
       " 4: {'Everton': 'LeicesterCity',\n",
       "  'ManchesterCity': 'Liverpool',\n",
       "  'NewcastleUnited': 'ManchesterUnited'},\n",
       " 5: {'Liverpool': 'LeicesterCity',\n",
       "  'ManchesterUnited': 'ManchesterCity',\n",
       "  'NewcastleUnited': 'Everton'},\n",
       " 6: {'Everton': 'NewcastleUnited',\n",
       "  'LeicesterCity': 'Liverpool',\n",
       "  'ManchesterCity': 'ManchesterUnited'},\n",
       " 7: {'LeicesterCity': 'Everton',\n",
       "  'Liverpool': 'ManchesterCity',\n",
       "  'ManchesterUnited': 'NewcastleUnited'},\n",
       " 8: {'Everton': 'ManchesterUnited',\n",
       "  'ManchesterCity': 'LeicesterCity',\n",
       "  'NewcastleUnited': 'Liverpool'},\n",
       " 9: {'LeicesterCity': 'ManchesterUnited',\n",
       "  'Liverpool': 'Everton',\n",
       "  'ManchesterCity': 'NewcastleUnited'},\n",
       " 10: {'Everton': 'ManchesterCity',\n",
       "  'ManchesterUnited': 'Liverpool',\n",
       "  'NewcastleUnited': 'LeicesterCity'}}"
      ]
     },
     "execution_count": 5,
     "metadata": {},
     "output_type": "execute_result"
    }
   ],
   "source": [
    "x = {}\n",
    "for game in schedule:\n",
    "    x[int(game[2])] = {}\n",
    "\n",
    "for game in schedule:\n",
    "    x[int(game[2])][game[0]] = game[1]\n",
    "\n",
    "x"
   ]
  },
  {
   "cell_type": "code",
   "execution_count": 6,
   "metadata": {},
   "outputs": [],
   "source": [
    "# Check if each team plays a game each week\n",
    "for team in T:\n",
    "    if len(teams[team]) != 2*len(T)-2:\n",
    "        print(\"Team \" + team + \" does not play a game each week.\")\n"
   ]
  },
  {
   "cell_type": "code",
   "execution_count": 7,
   "metadata": {},
   "outputs": [],
   "source": [
    "# Check that each team plays each other team exactly once in the first round:\n",
    "for team in T:\n",
    "    count = 0\n",
    "    for team2 in T:\n",
    "        if team != team2:\n",
    "            for week in range(1, len(T)):\n",
    "                try:\n",
    "                    if x[week][team] == team2:\n",
    "                        count += 1\n",
    "                except:\n",
    "                    try:\n",
    "                        if x[week][team2] == team:\n",
    "                            count += 1\n",
    "                    except:\n",
    "                        pass\n",
    "    if count != len(T)-1:\n",
    "        print(\"Team \" + team + \" does not play each other team exactly once in the first round.\")\n"
   ]
  },
  {
   "cell_type": "code",
   "execution_count": 8,
   "metadata": {},
   "outputs": [],
   "source": [
    "# Check that each team plays each other team exactly once in the second round:\n",
    "for team in T:\n",
    "    count = 0\n",
    "    for team2 in T:\n",
    "        if team != team2:\n",
    "            for week in range(len(T), 2*len(T)-1):\n",
    "                try:\n",
    "                    if x[week][team] == team2:\n",
    "                        count += 1\n",
    "                except:\n",
    "                    try:\n",
    "                        if x[week][team2] == team:\n",
    "                            count += 1\n",
    "                    except:\n",
    "                        pass\n",
    "    if count != len(T)-1:\n",
    "        print(\"Team \" + team + \" does not play each other team exactly once in the second round.\")\n"
   ]
  },
  {
   "cell_type": "code",
   "execution_count": 9,
   "metadata": {},
   "outputs": [],
   "source": [
    "# Check if team i played at home against team j in the first half,\n",
    "# they will play away against team j in the second half, and vice versa.\n",
    "\n",
    "for team in T:\n",
    "    for team2 in T:\n",
    "        if team != team2:\n",
    "            countha = 0\n",
    "            countah = 0\n",
    "            for week in range(1, len(T)):\n",
    "                try:\n",
    "                    if x[week][team] == team2:\n",
    "                        countha += 1\n",
    "                except:\n",
    "                    try:\n",
    "                        if x[week][team2] == team:\n",
    "                            countah += 1\n",
    "                    except:\n",
    "                        pass\n",
    "            for week in range(len(T), 2*len(T)-1):\n",
    "                try:\n",
    "                    if x[week][team] == team2:\n",
    "                        countah += 1\n",
    "                except:\n",
    "                    try:\n",
    "                        if x[week][team2] == team:\n",
    "                            countha += 1\n",
    "                    except:\n",
    "                        pass\n",
    "            if countha == 1 and countah == 1:\n",
    "                print(\"Team \" + team + \" does not play at home against team \" + team2 + \\\n",
    "                      \" in the first half, and away in the second half, or vice versa.\")\n"
   ]
  },
  {
   "cell_type": "code",
   "execution_count": 10,
   "metadata": {},
   "outputs": [],
   "source": [
    "# Check if first two and last two games cannot be consecutive away or home games\n",
    "for team in T:\n",
    "    if teams[team][0] == teams[team][1]:\n",
    "        print(\"Team \" + team + \" plays two consecutive \" + teams[team][0] + \" games.\")\n",
    "    if teams[team][-1] == teams[team][-2]:\n",
    "        print(\"Team \" + team + \" plays two consecutive \" + teams[team][-1] + \" games.\")\n"
   ]
  },
  {
   "cell_type": "code",
   "execution_count": 11,
   "metadata": {},
   "outputs": [
    {
     "name": "stdout",
     "output_type": "stream",
     "text": [
      "The sequencing rule is satisfied!\n"
     ]
    }
   ],
   "source": [
    "# Check if the sequencing is satisfied\n",
    "sequencing_rule = 0\n",
    "for team in T:\n",
    "    for w in range(1, (2*len(T) - 1) - 5):\n",
    "        h = 0\n",
    "        a = 0\n",
    "        for i in range(5):\n",
    "            if teams[team][w+i] == 'h':\n",
    "                h += 1\n",
    "            else:\n",
    "                a += 1\n",
    "        if (h != 2 and a != 3) and (h != 3 and a != 2):\n",
    "            sequencing_rule += 1\n",
    "            print(h, a, w, team)\n",
    "\n",
    "if (not sequencing_rule):\n",
    "\tprint(\"The sequencing rule is satisfied!\")\n"
   ]
  },
  {
   "cell_type": "code",
   "execution_count": 12,
   "metadata": {},
   "outputs": [],
   "source": [
    "# Teams from the same city cannot play both home in the same week\n",
    "home_games = 0\n",
    "for week in range(1, 2*len(T)-1):\n",
    "\tif (teams['Liverpool'] == teams['Everton']):\n",
    "\t\thome_games += 1\n",
    "\n",
    "if (home_games):\n",
    "\tprint(\"Teams from Liverpool play both home in the same week!\")\n",
    "\n",
    "home_games = 0\n",
    "for week in range(1, 2*len(T)-1):\n",
    "\tif (teams['ManchesterCity'] == teams['ManchesterUnited']):\n",
    "\t\thome_games += 1\n",
    "\n",
    "if (home_games):\n",
    "\tprint(\"Teams from Manchester play both home in the same week!\")\n"
   ]
  },
  {
   "cell_type": "code",
   "execution_count": 13,
   "metadata": {},
   "outputs": [
    {
     "name": "stdout",
     "output_type": "stream",
     "text": [
      "Team LeicesterCity plays consecutive away games in week 4\n",
      "Team LeicesterCity plays consecutive home games in week 6\n",
      "Team NewcastleUnited plays consecutive home games in week 4\n",
      "Team NewcastleUnited plays consecutive away games in week 6\n",
      "Team ManchesterUnited plays consecutive home games in week 2\n",
      "Team ManchesterUnited plays consecutive away games in week 8\n",
      "Team ManchesterCity plays consecutive away games in week 2\n",
      "Team ManchesterCity plays consecutive home games in week 8\n"
     ]
    }
   ],
   "source": [
    "# Check which teams play consecutive home and away games\n",
    "for team in T:\n",
    "    for w in range((2*len(T) - 2) - 1):\n",
    "        if teams[team][w] == teams[team][w + 1]:\n",
    "            if (teams[team][w] == 'h'):\n",
    "                print(\"Team \" + team + \" plays consecutive home games in week \" + str(w + 1))\n",
    "            else:\n",
    "                print(\"Team \" + team + \" plays consecutive away games in week \" + str(w + 1))\n"
   ]
  }
 ],
 "metadata": {
  "kernelspec": {
   "display_name": "Python 3",
   "language": "python",
   "name": "python3"
  },
  "language_info": {
   "codemirror_mode": {
    "name": "ipython",
    "version": 3
   },
   "file_extension": ".py",
   "mimetype": "text/x-python",
   "name": "python",
   "nbconvert_exporter": "python",
   "pygments_lexer": "ipython3",
   "version": "3.10.5"
  },
  "orig_nbformat": 4
 },
 "nbformat": 4,
 "nbformat_minor": 2
}
